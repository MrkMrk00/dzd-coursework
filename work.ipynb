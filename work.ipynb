{
 "cells": [
  {
   "cell_type": "code",
   "execution_count": 10,
   "id": "2f96a193",
   "metadata": {},
   "outputs": [],
   "source": [
    "import pandas as pd\n",
    "import sqlite3\n",
    "from datetime import datetime\n",
    "from contextlib import contextmanager"
   ]
  },
  {
   "cell_type": "code",
   "execution_count": 21,
   "id": "0fb93958-32ef-497d-b84d-727cae5dd97b",
   "metadata": {},
   "outputs": [],
   "source": [
    "# SQL Database helpers\n",
    "\n",
    "db = sqlite3.connect(':memory:') if not 'db' in locals() else db\n",
    "\n",
    "def dict_factory(cursor, row):\n",
    "    d = {}\n",
    "    for idx, col in enumerate(cursor.description):\n",
    "        d[col[0]] = row[idx]\n",
    "    return d\n",
    "    \n",
    "db.row_factory = dict_factory\n",
    "\n",
    "@contextmanager\n",
    "def cursor():\n",
    "    cursor_ = None\n",
    "    try:\n",
    "        cursor_ = db.cursor()\n",
    "        yield cursor_\n",
    "    finally:\n",
    "        if cursor_:\n",
    "            cursor_.close()\n",
    "\n",
    "\n",
    "def table_exists(table_name: str) -> bool:\n",
    "    with cursor() as c:\n",
    "        try:\n",
    "            c.execute(f'SELECT 1 FROM \"{table_name}\"')\n",
    "            return True\n",
    "        except sqlite3.OperationalError:\n",
    "            return False\n"
   ]
  },
  {
   "cell_type": "code",
   "execution_count": 34,
   "id": "48a40cfe",
   "metadata": {},
   "outputs": [],
   "source": [
    "electricity = pd.read_csv('data/electricity.csv') \\\n",
    "    if 'electricity' not in locals() else electricity\n",
    "\n",
    "daily_weather = pd.read_parquet('data/daily_weather.parquet') \\\n",
    "    if 'daily_weather' not in locals() else daily_weather\n",
    "\n",
    "cities_in_countries = pd.read_csv('data/cities.csv') \\\n",
    "    if 'cities_in_countries' not in locals() else cities_in_countries"
   ]
  },
  {
   "cell_type": "code",
   "execution_count": 50,
   "id": "d642a2e5-4bc2-4a5b-80f0-898a1f673ba8",
   "metadata": {},
   "outputs": [],
   "source": [
    "if not table_exists('daily_weather_raw'):\n",
    "    daily_weather.to_sql('daily_weather_raw', db, if_exists='replace')\n",
    "    \n",
    "if not table_exists('weather_cities'): \n",
    "    cities_in_countries.to_sql('weather_cities', db, if_exists='replace')\n",
    "\n",
    "if not table_exists('electricity'): \n",
    "    electricity.to_sql('electricity', db, if_exists='replace')"
   ]
  },
  {
   "cell_type": "code",
   "execution_count": 15,
   "id": "b9d50cb2-8a51-4110-9631-636a777af637",
   "metadata": {},
   "outputs": [],
   "source": [
    "# grouping weather data by month - to join with electricity\n",
    "with cursor() as c:\n",
    "    c.execute('ALTER TABLE daily_weather_raw ADD COLUMN year INT;')\n",
    "    c.execute('ALTER TABLE daily_weather_raw ADD COLUMN month INT;')\n",
    "    c.execute('UPDATE daily_weather_raw SET year=strftime(\"%Y\", date), month=strftime(\"%m\", date);')\n",
    "    c.execute('DELETE FROM daily_weather_raw WHERE year < 2010 OR year > 2018;')\n"
   ]
  },
  {
   "cell_type": "code",
   "execution_count": 47,
   "id": "17c33ff4-d876-41b7-8172-19f5d0fb71ef",
   "metadata": {},
   "outputs": [],
   "source": [
    "complete_weather_query = \"\"\"\n",
    "    SELECT \n",
    "        country,\n",
    "        year,\n",
    "        month,\n",
    "        season,\n",
    "        AVG(avg_temp_c) AS avg_temp_c,\n",
    "        MAX(max_temp_c) AS max_temp_c,\n",
    "        MIN(min_temp_c) AS min_temp_c,\n",
    "        AVG(avg_sea_level_pres_hpa) AS avg_sealevel_pressure_hpa,\n",
    "        AVG(precipitation_mm) AS avg_daily_precipitation_mm,\n",
    "        AVG(sunshine_total_min) AS avg_sunshine_min,\n",
    "        SUM(sunshine_total_min) AS total_sunshine_min,\n",
    "        AVG(snow_depth_mm) AS avg_snow_depth_mm\n",
    "    FROM daily_weather_raw w\n",
    "    JOIN weather_cities c ON c.station_id = w.station_id\n",
    "    GROUP BY c.country, w.year, w.month\n",
    "\"\"\"\n",
    "\n",
    "with cursor() as c:\n",
    "    weather = pd.DataFrame(c.execute(f'{complete_weather_query};').fetchall())"
   ]
  },
  {
   "cell_type": "code",
   "execution_count": 53,
   "id": "d5fd73d1-13f9-4d91-a08e-a425d899545e",
   "metadata": {},
   "outputs": [
    {
     "name": "stdout",
     "output_type": "stream",
     "text": [
      "   COUNT(*)\n",
      "0      7332\n"
     ]
    }
   ],
   "source": [
    "with cursor() as c:\n",
    "    print(pd.DataFrame(c.execute('SELECT COUNT(*) FROM (SELECT COUNTRY, YEAR, MONTH FROM electricity GROUP BY COUNTRY, YEAR, MONTH);').fetchall()))"
   ]
  }
 ],
 "metadata": {
  "kernelspec": {
   "display_name": "Python 3 (ipykernel)",
   "language": "python",
   "name": "python3"
  },
  "language_info": {
   "codemirror_mode": {
    "name": "ipython",
    "version": 3
   },
   "file_extension": ".py",
   "mimetype": "text/x-python",
   "name": "python",
   "nbconvert_exporter": "python",
   "pygments_lexer": "ipython3",
   "version": "3.11.8"
  }
 },
 "nbformat": 4,
 "nbformat_minor": 5
}
