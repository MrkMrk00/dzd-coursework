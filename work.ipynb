{
 "cells": [
  {
   "cell_type": "code",
   "execution_count": 1,
   "id": "2f96a193",
   "metadata": {},
   "outputs": [],
   "source": [
    "import pandas as pd\n",
    "import sqlite3\n",
    "from datetime import datetime\n",
    "from contextlib import contextmanager"
   ]
  },
  {
   "cell_type": "code",
   "execution_count": 2,
   "id": "0fb93958-32ef-497d-b84d-727cae5dd97b",
   "metadata": {},
   "outputs": [],
   "source": [
    "# SQL Database helpers\n",
    "\n",
    "db = sqlite3.connect('Database') if not 'db' in locals() else db\n",
    "\n",
    "def dict_factory(cursor, row):\n",
    "    d = {}\n",
    "    for idx, col in enumerate(cursor.description):\n",
    "        d[col[0]] = row[idx]\n",
    "    return d\n",
    "    \n",
    "db.row_factory = dict_factory\n",
    "\n",
    "@contextmanager\n",
    "def cursor():\n",
    "    cursor_ = None\n",
    "    try:\n",
    "        cursor_ = db.cursor()\n",
    "        yield cursor_\n",
    "    finally:\n",
    "        if cursor_:\n",
    "            cursor_.close()\n",
    "\n",
    "\n",
    "def table_exists(table_name: str) -> bool:\n",
    "    with cursor() as c:\n",
    "        try:\n",
    "            c.execute(f'SELECT 1 FROM \"{table_name}\"')\n",
    "            return True\n",
    "        except sqlite3.OperationalError:\n",
    "            return False\n"
   ]
  },
  {
   "cell_type": "code",
   "execution_count": 3,
   "id": "48a40cfe",
   "metadata": {},
   "outputs": [],
   "source": [
    "electricity = pd.read_csv('data/electricity.csv') \\\n",
    "    if 'electricity' not in locals() else electricity\n",
    "\n",
    "daily_weather = pd.read_parquet('data/daily_weather.parquet') \\\n",
    "    if 'daily_weather' not in locals() else daily_weather\n",
    "\n",
    "cities_in_countries = pd.read_csv('data/cities.csv') \\\n",
    "    if 'cities_in_countries' not in locals() else cities_in_countries"
   ]
  },
  {
   "cell_type": "code",
   "execution_count": 4,
   "id": "d642a2e5-4bc2-4a5b-80f0-898a1f673ba8",
   "metadata": {},
   "outputs": [],
   "source": [
    "if not table_exists('daily_weather_raw'):\n",
    "    daily_weather.to_sql('daily_weather_raw', db, if_exists='replace')\n",
    "    \n",
    "if not table_exists('weather_cities'): \n",
    "    cities_in_countries.to_sql('weather_cities', db, if_exists='replace')\n",
    "\n",
    "if not table_exists('electricity'): \n",
    "    electricity.to_sql('electricity', db, if_exists='replace')"
   ]
  },
  {
   "cell_type": "code",
   "execution_count": 5,
   "id": "b9d50cb2-8a51-4110-9631-636a777af637",
   "metadata": {},
   "outputs": [],
   "source": [
    "# grouping weather data by month - to join with electricity\n",
    "with cursor() as c:\n",
    "    c.execute('ALTER TABLE daily_weather_raw ADD COLUMN year INT;')\n",
    "    c.execute('ALTER TABLE daily_weather_raw ADD COLUMN month INT;')\n",
    "    c.execute('UPDATE daily_weather_raw SET year=strftime(\"%Y\", date), month=strftime(\"%m\", date);')\n",
    "    c.execute('DELETE FROM daily_weather_raw WHERE year < 2010 OR year > 2018;')\n"
   ]
  },
  {
   "cell_type": "code",
   "execution_count": 9,
   "id": "17c33ff4-d876-41b7-8172-19f5d0fb71ef",
   "metadata": {},
   "outputs": [
    {
     "name": "stdout",
     "output_type": "stream",
     "text": [
      "       country  year  month  season  avg_temp_c  max_temp_c  min_temp_c  \\\n",
      "0  Afghanistan  2010      1  Winter    4.236301        22.8       -18.0   \n",
      "1  Afghanistan  2010      2  Winter    3.833871        26.7       -19.5   \n",
      "2  Afghanistan  2010      3  Spring   11.642581        34.8        -6.5   \n",
      "3  Afghanistan  2010      4  Spring   17.192517        34.8        -5.3   \n",
      "4  Afghanistan  2010      5  Spring   20.677703        39.8         2.5   \n",
      "\n",
      "  avg_sealevel_pressure_hpa  avg_daily_precipitation_mm avg_sunshine_min  \\\n",
      "0                      None                    2.134545             None   \n",
      "1                      None                    4.703774             None   \n",
      "2                      None                    2.781538             None   \n",
      "3                      None                    3.335593             None   \n",
      "4                      None                    3.452727             None   \n",
      "\n",
      "  total_sunshine_min  avg_snow_depth_mm  \n",
      "0               None         106.631579  \n",
      "1               None         410.850000  \n",
      "2               None         327.352941  \n",
      "3               None                NaN  \n",
      "4               None         841.000000  \n"
     ]
    }
   ],
   "source": [
    "complete_weather_query = \"\"\"\n",
    "    SELECT \n",
    "        country,\n",
    "        year,\n",
    "        month,\n",
    "        season,\n",
    "        AVG(avg_temp_c) AS avg_temp_c,\n",
    "        MAX(max_temp_c) AS max_temp_c,\n",
    "        MIN(min_temp_c) AS min_temp_c,\n",
    "        AVG(avg_sea_level_pres_hpa) AS avg_sealevel_pressure_hpa,\n",
    "        AVG(precipitation_mm) AS avg_daily_precipitation_mm,\n",
    "        AVG(sunshine_total_min) AS avg_sunshine_min,\n",
    "        SUM(sunshine_total_min) AS total_sunshine_min,\n",
    "        AVG(snow_depth_mm) AS avg_snow_depth_mm\n",
    "    FROM daily_weather_raw w\n",
    "    JOIN weather_cities c ON c.station_id = w.station_id\n",
    "    GROUP BY c.country, w.year, w.month\n",
    "\"\"\"\n",
    "\n",
    "with cursor() as c:\n",
    "    limit = 5\n",
    "    print(pd.DataFrame(c.execute(f'{complete_weather_query} LIMIT ?;', [limit]).fetchall()))"
   ]
  },
  {
   "cell_type": "code",
   "execution_count": 14,
   "id": "d24d3c38-f691-4444-833f-11f1d4f36e29",
   "metadata": {},
   "outputs": [
    {
     "name": "stdout",
     "output_type": "stream",
     "text": [
      "[{'index': 0, 'Country Name': 'Aruba', 'Year': 1960, 'Count': 50}, {'index': 1, 'Country Name': 'Afghanistan', 'Year': 1960, 'Count': 48}, {'index': 2, 'Country Name': 'Angola', 'Year': 1960, 'Count': 49}, {'index': 3, 'Country Name': 'Albania', 'Year': 1960, 'Count': 48}, {'index': 4, 'Country Name': 'United Arab Emirates', 'Year': 1960, 'Count': 49}]\n"
     ]
    }
   ],
   "source": [
    "# read and load population datasets\n",
    "\n",
    "if not table_exists('population'):\n",
    "    population = pd.read_csv('data/population_total_long.csv')\n",
    "    population.to_sql('population', db, if_exists='replace')\n",
    "\n",
    "if not table_exists('pop_female_perc'):\n",
    "    pop_female_perc = pd.read_csv('data/population_female_percentage_long.csv')\n",
    "    pop_female_perc.to_sql('pop_female_perc', db, if_exists='replace')\n",
    "\n",
    "if not table_exists('pop_density'):\n",
    "    pop_density = pd.read_csv('data/population_density_long.csv')\n",
    "    pop_density.to_sql('pop_density', db, if_exists='replace')\n",
    "\n",
    "if not table_exists('pop_below_14'):\n",
    "    pop_below_14 = pd.read_csv('data/population_below_age_14_percentage_long.csv')\n",
    "    pop_below_14.to_sql('pop_below_14', db, if_exists='replace')\n",
    "\n",
    "if not table_exists('pop_above_65'):\n",
    "    pop_above_65 = pd.read_csv('data/population_above_age_65_percentage_long.csv')\n",
    "    pop_above_65.to_sql('pop_above_65', db, if_exists='replace')"
   ]
  },
  {
   "cell_type": "code",
   "execution_count": 23,
   "id": "d5fd73d1-13f9-4d91-a08e-a425d899545e",
   "metadata": {},
   "outputs": [
    {
     "name": "stdout",
     "output_type": "stream",
     "text": [
      "                country  year  female_perc  male_perc  population_density  \\\n",
      "0                 Aruba  1961           50         50                 307   \n",
      "1           Afghanistan  1961           48         52                  14   \n",
      "2                Angola  1961           49         51                   4   \n",
      "3               Albania  1961           48         52                  60   \n",
      "4  United Arab Emirates  1961           48         52                   1   \n",
      "\n",
      "   population_below_14_perc  population_above_65_perc  \\\n",
      "0                        43                         2   \n",
      "1                        42                         2   \n",
      "2                        42                         3   \n",
      "3                        40                         5   \n",
      "4                        43                         3   \n",
      "\n",
      "   population_working_age_perc  \n",
      "0                           55  \n",
      "1                           56  \n",
      "2                           55  \n",
      "3                           55  \n",
      "4                           54  \n"
     ]
    }
   ],
   "source": [
    "# Odvozené sloupce: male_perc, population_working_age\n",
    "\n",
    "population_complete = \"\"\"\n",
    "    SELECT \n",
    "        p.\"Country Name\" AS country,\n",
    "        p.Year AS year,\n",
    "        female.Count AS female_perc,\n",
    "        (100 - female.Count) AS male_perc,\n",
    "        density.Count AS population_density,\n",
    "        below14.Count AS population_below_14_perc,\n",
    "        above65.Count AS population_above_65_perc,\n",
    "        (100 - below14.Count - above65.Count) AS population_working_age_perc\n",
    "    FROM population p\n",
    "    JOIN pop_female_perc female ON (\n",
    "        female.\"Country Name\" = p.\"Country Name\" AND female.Year = p.Year\n",
    "    )\n",
    "    JOIN pop_density density ON (\n",
    "        density.\"Country Name\" = p.\"Country Name\" AND density.Year = p.Year\n",
    "    )\n",
    "    JOIN pop_below_14 below14 ON (\n",
    "        below14.\"Country Name\" = p.\"Country Name\" AND below14.Year = p.Year\n",
    "    )\n",
    "    JOIN pop_above_65 above65 ON (\n",
    "        above65.\"Country Name\" = p.\"Country Name\" AND above65.Year = p.Year\n",
    "    )\n",
    "\"\"\"\n",
    "\n",
    "with cursor() as c:\n",
    "    limit = 5\n",
    "    print(pd.DataFrame(c.execute(f'{population_complete} LIMIT ?;', [limit]).fetchall()))"
   ]
  }
 ],
 "metadata": {
  "kernelspec": {
   "display_name": "Python 3 (ipykernel)",
   "language": "python",
   "name": "python3"
  },
  "language_info": {
   "codemirror_mode": {
    "name": "ipython",
    "version": 3
   },
   "file_extension": ".py",
   "mimetype": "text/x-python",
   "name": "python",
   "nbconvert_exporter": "python",
   "pygments_lexer": "ipython3",
   "version": "3.11.8"
  }
 },
 "nbformat": 4,
 "nbformat_minor": 5
}
