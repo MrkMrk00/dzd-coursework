{
 "cells": [
  {
   "cell_type": "code",
   "execution_count": 18,
   "id": "2f96a193",
   "metadata": {},
   "outputs": [],
   "source": [
    "import pandas as pd\n",
    "import sqlite3\n",
    "from datetime import datetime\n",
    "from contextlib import contextmanager\n",
    "from typing import Any\n",
    "import matplotlib.pyplot as plt"
   ]
  },
  {
   "cell_type": "code",
   "execution_count": 2,
   "id": "0fb93958-32ef-497d-b84d-727cae5dd97b",
   "metadata": {},
   "outputs": [],
   "source": [
    "# SQL Database helpers\n",
    "\n",
    "db = sqlite3.connect('Database') if not 'db' in locals() else db\n",
    "\n",
    "def dict_factory(cursor, row):\n",
    "    d = {}\n",
    "    for idx, col in enumerate(cursor.description):\n",
    "        d[col[0]] = row[idx]\n",
    "    return d\n",
    "    \n",
    "db.row_factory = dict_factory\n",
    "\n",
    "@contextmanager\n",
    "def cursor():\n",
    "    cursor_ = None\n",
    "    try:\n",
    "        cursor_ = db.cursor()\n",
    "        yield cursor_\n",
    "    finally:\n",
    "        if cursor_:\n",
    "            cursor_.close()\n",
    "\n",
    "\n",
    "def table_exists(table_name: str) -> bool:\n",
    "    with cursor() as c:\n",
    "        try:\n",
    "            c.execute(f'SELECT 1 FROM \"{table_name}\"')\n",
    "            return True\n",
    "        except sqlite3.OperationalError:\n",
    "            return False\n"
   ]
  },
  {
   "cell_type": "code",
   "execution_count": 3,
   "id": "48a40cfe",
   "metadata": {},
   "outputs": [],
   "source": [
    "electricity = pd.read_csv('data/electricity.csv') \\\n",
    "    if 'electricity' not in locals() else electricity\n",
    "\n",
    "daily_weather = pd.read_parquet('data/daily_weather.parquet') \\\n",
    "    if 'daily_weather' not in locals() else daily_weather\n",
    "\n",
    "cities_in_countries = pd.read_csv('data/cities.csv') \\\n",
    "    if 'cities_in_countries' not in locals() else cities_in_countries"
   ]
  },
  {
   "cell_type": "code",
   "execution_count": 4,
   "id": "d642a2e5-4bc2-4a5b-80f0-898a1f673ba8",
   "metadata": {},
   "outputs": [],
   "source": [
    "if not table_exists('daily_weather_raw'):\n",
    "    daily_weather.to_sql('daily_weather_raw', db, if_exists='replace')\n",
    "    \n",
    "if not table_exists('weather_cities'): \n",
    "    cities_in_countries.to_sql('weather_cities', db, if_exists='replace')\n",
    "\n",
    "if not table_exists('electricity'): \n",
    "    electricity.to_sql('electricity', db, if_exists='replace')"
   ]
  },
  {
   "cell_type": "code",
   "execution_count": 180,
   "id": "b9d50cb2-8a51-4110-9631-636a777af637",
   "metadata": {},
   "outputs": [],
   "source": [
    "# grouping weather data by month - to join with electricity\n",
    "with cursor() as c:\n",
    "    try:\n",
    "        c.execute('ALTER TABLE daily_weather_raw ADD COLUMN year INT;')\n",
    "        c.execute('ALTER TABLE daily_weather_raw ADD COLUMN month INT;')\n",
    "        c.execute('UPDATE daily_weather_raw SET year=strftime(\"%Y\", date), month=strftime(\"%m\", date);')\n",
    "        c.execute('DELETE FROM daily_weather_raw WHERE year < 2010 OR year > 2018;')\n",
    "    except:\n",
    "        pass # už se stalo"
   ]
  },
  {
   "cell_type": "code",
   "execution_count": 408,
   "id": "17c33ff4-d876-41b7-8172-19f5d0fb71ef",
   "metadata": {},
   "outputs": [
    {
     "name": "stdout",
     "output_type": "stream",
     "text": [
      "       country  year  month  season  avg_temp_c  max_temp_c  min_temp_c  \\\n",
      "0  Afghanistan  2010      1  Winter    4.236301        22.8       -18.0   \n",
      "1  Afghanistan  2010      2  Winter    3.833871        26.7       -19.5   \n",
      "2  Afghanistan  2010      3  Spring   11.642581        34.8        -6.5   \n",
      "3  Afghanistan  2010      4  Spring   17.192517        34.8        -5.3   \n",
      "4  Afghanistan  2010      5  Spring   20.677703        39.8         2.5   \n",
      "\n",
      "  avg_sealevel_pressure_hpa  avg_daily_precipitation_mm avg_sunshine_min  \\\n",
      "0                      None                    2.134545             None   \n",
      "1                      None                    4.703774             None   \n",
      "2                      None                    2.781538             None   \n",
      "3                      None                    3.335593             None   \n",
      "4                      None                    3.452727             None   \n",
      "\n",
      "  total_sunshine_min  avg_snow_depth_mm  \n",
      "0               None         106.631579  \n",
      "1               None         410.850000  \n",
      "2               None         327.352941  \n",
      "3               None                NaN  \n",
      "4               None         841.000000  \n"
     ]
    }
   ],
   "source": [
    "# Missing values treatment:\n",
    "average_temps = \"\"\"\n",
    "    SELECT \n",
    "        country, \n",
    "        month, \n",
    "        AVG(max_temp_c) AS max, \n",
    "        AVG(min_temp_c) AS min,\n",
    "        AVG(avg_sea_level_pres_hpa) AS pressure,\n",
    "        AVG(precipitation_mm) AS precipitation\n",
    "    FROM daily_weather_raw\n",
    "    JOIN weather_cities ON weather_cities.station_id = daily_weather_raw.station_id\n",
    "    GROUP BY country, month\n",
    "\"\"\"\n",
    "\n",
    "complete_weather_query = f\"\"\"\n",
    "    SELECT \n",
    "        c.country,\n",
    "        w.year,\n",
    "        w.month,\n",
    "        w.season,\n",
    "        AVG(avg_temp_c) AS avg_temp_c,\n",
    "        COALESCE(MAX(max_temp_c), _avg.max) AS max_temp_c,\n",
    "        COALESCE(MIN(min_temp_c), _avg.min) AS min_temp_c,\n",
    "        COALESCE(AVG(avg_sea_level_pres_hpa), _avg.pressure) AS avg_sealevel_pressure_hpa,\n",
    "        COALESCE(AVG(precipitation_mm), _avg.precipitation) AS avg_daily_precipitation_mm,\n",
    "        AVG(sunshine_total_min) AS avg_sunshine_min,\n",
    "        SUM(sunshine_total_min) AS total_sunshine_min,\n",
    "        AVG(snow_depth_mm) AS avg_snow_depth_mm\n",
    "    FROM daily_weather_raw w\n",
    "    JOIN weather_cities c ON c.station_id = w.station_id\n",
    "    LEFT JOIN ({average_temps}) _avg ON (\n",
    "        _avg.country = c.country\n",
    "        AND _avg.month = w.month\n",
    "    )\n",
    "    GROUP BY c.country, w.year, w.month\n",
    "\"\"\"\n",
    "\n",
    "with cursor() as c:\n",
    "    limit = 5\n",
    "    print(pd.DataFrame(c.execute(f'{complete_weather_query} LIMIT ?;', [limit]).fetchall()))"
   ]
  },
  {
   "cell_type": "code",
   "execution_count": 7,
   "id": "d24d3c38-f691-4444-833f-11f1d4f36e29",
   "metadata": {},
   "outputs": [],
   "source": [
    "# read and load population datasets\n",
    "\n",
    "if not table_exists('population'):\n",
    "    population = pd.read_csv('data/population_total_long.csv')\n",
    "    population.to_sql('population', db, if_exists='replace')\n",
    "\n",
    "if not table_exists('pop_female_perc'):\n",
    "    pop_female_perc = pd.read_csv('data/population_female_percentage_long.csv')\n",
    "    pop_female_perc.to_sql('pop_female_perc', db, if_exists='replace')\n",
    "\n",
    "if not table_exists('pop_density'):\n",
    "    pop_density = pd.read_csv('data/population_density_long.csv')\n",
    "    pop_density.to_sql('pop_density', db, if_exists='replace')\n",
    "\n",
    "if not table_exists('pop_below_14'):\n",
    "    pop_below_14 = pd.read_csv('data/population_below_age_14_percentage_long.csv')\n",
    "    pop_below_14.to_sql('pop_below_14', db, if_exists='replace')\n",
    "\n",
    "if not table_exists('pop_above_65'):\n",
    "    pop_above_65 = pd.read_csv('data/population_above_age_65_percentage_long.csv')\n",
    "    pop_above_65.to_sql('pop_above_65', db, if_exists='replace')"
   ]
  },
  {
   "cell_type": "code",
   "execution_count": 8,
   "id": "d5fd73d1-13f9-4d91-a08e-a425d899545e",
   "metadata": {
    "scrolled": true
   },
   "outputs": [
    {
     "name": "stdout",
     "output_type": "stream",
     "text": [
      "                country  year  female_perc  male_perc  population_density  \\\n",
      "0                 Aruba  1961           50         50                 307   \n",
      "1           Afghanistan  1961           48         52                  14   \n",
      "2                Angola  1961           49         51                   4   \n",
      "3               Albania  1961           48         52                  60   \n",
      "4  United Arab Emirates  1961           48         52                   1   \n",
      "\n",
      "   population_below_14_perc  population_above_65_perc  \\\n",
      "0                        43                         2   \n",
      "1                        42                         2   \n",
      "2                        42                         3   \n",
      "3                        40                         5   \n",
      "4                        43                         3   \n",
      "\n",
      "   population_working_age_perc  \n",
      "0                           55  \n",
      "1                           56  \n",
      "2                           55  \n",
      "3                           55  \n",
      "4                           54  \n"
     ]
    }
   ],
   "source": [
    "# Odvozené sloupce: male_perc, population_working_age\n",
    "\n",
    "population_complete = \"\"\"\n",
    "    SELECT \n",
    "        p.\"Country Name\" AS country,\n",
    "        p.Year AS year,\n",
    "        female.Count AS female_perc,\n",
    "        (100 - female.Count) AS male_perc,\n",
    "        density.Count AS population_density,\n",
    "        below14.Count AS population_below_14_perc,\n",
    "        above65.Count AS population_above_65_perc,\n",
    "        (100 - below14.Count - above65.Count) AS population_working_age_perc\n",
    "    FROM population p\n",
    "    JOIN pop_female_perc female ON (\n",
    "        female.\"Country Name\" = p.\"Country Name\" AND female.Year = p.Year\n",
    "    )\n",
    "    JOIN pop_density density ON (\n",
    "        density.\"Country Name\" = p.\"Country Name\" AND density.Year = p.Year\n",
    "    )\n",
    "    JOIN pop_below_14 below14 ON (\n",
    "        below14.\"Country Name\" = p.\"Country Name\" AND below14.Year = p.Year\n",
    "    )\n",
    "    JOIN pop_above_65 above65 ON (\n",
    "        above65.\"Country Name\" = p.\"Country Name\" AND above65.Year = p.Year\n",
    "    )\n",
    "\"\"\"\n",
    "\n",
    "with cursor() as c:\n",
    "    limit = 5\n",
    "    print(pd.DataFrame(c.execute(f'{population_complete} LIMIT ?;', [limit]).fetchall()))"
   ]
  },
  {
   "cell_type": "code",
   "execution_count": 209,
   "id": "724829bc-eb79-4015-8518-ff773d373b1f",
   "metadata": {},
   "outputs": [],
   "source": [
    "def select_product(product: str|list[str]) -> tuple[str, list]:\n",
    "    if type(product) == str:\n",
    "        product = [product]\n",
    "\n",
    "    placeholders = ', '.join(['?' for _ in range(len(product))])\n",
    "\n",
    "    return (f\"\"\"\n",
    "        SELECT\n",
    "            CONCAT_WS(\"-\", e.COUNTRY, e.YEAR, e.MONTH) AS key,\n",
    "            e.COUNTRY,\n",
    "            e.YEAR,\n",
    "            e.MONTH,\n",
    "            COALESCE(SUM(e.VALUE), 0) AS value\n",
    "        FROM electricity e \n",
    "        WHERE e.PRODUCT IN ({placeholders})\n",
    "        GROUP BY e.COUNTRY, e.YEAR, e.MONTH\n",
    "    \"\"\", product)\n",
    "    \n",
    "def group_by_year(data: list[dict]) -> dict[int, Any]:\n",
    "    by_year = {}\n",
    "    for row in data:\n",
    "        key = row['year']\n",
    "        if key not in by_year:\n",
    "            by_year[key] = []\n",
    "        by_year[row['year']].append(row['value'])\n",
    "\n",
    "    return by_year"
   ]
  },
  {
   "cell_type": "code",
   "execution_count": 172,
   "id": "53396ea3-3c1f-436b-a2a6-25b414150e7d",
   "metadata": {},
   "outputs": [
    {
     "name": "stdout",
     "output_type": "stream",
     "text": [
      "Total combustible fuels [{'COUNTRY': 'Argentina', 'COUNT(*)': 2}, {'COUNTRY': 'Argentina', 'COUNT(*)': 2}, {'COUNTRY': 'Argentina', 'COUNT(*)': 2}, {'COUNTRY': 'Argentina', 'COUNT(*)': 2}, {'COUNTRY': 'Argentina', 'COUNT(*)': 2}]\n",
      "Non renewables []\n",
      "Renewables [{'COUNTRY': 'Argentina', 'COUNT(*)': 2}, {'COUNTRY': 'Argentina', 'COUNT(*)': 2}, {'COUNTRY': 'Argentina', 'COUNT(*)': 2}, {'COUNTRY': 'Argentina', 'COUNT(*)': 2}, {'COUNTRY': 'Argentina', 'COUNT(*)': 2}]\n"
     ]
    }
   ],
   "source": [
    "# Jsou sloupce s názvy \"Total ..., renewables, ...\" agregace, nebo je některé země uvádějí pouze agregace \n",
    "# místo konkrétních zdrojů el. energie?\n",
    "\n",
    "with cursor() as c:\n",
    "    # \"Total combustible fuels\" je agregace - nebereme v potaz\n",
    "    print('Total combustible fuels', c.execute(\"\"\"\n",
    "        SELECT COUNTRY, COUNT(*) \n",
    "        FROM electricity \n",
    "        WHERE PRODUCT IN (\"Total combustible fuels\", \"Coal\") \n",
    "        GROUP BY COUNTRY, YEAR, MONTH \n",
    "        HAVING COUNT(*) > 1\n",
    "        LIMIT 5\n",
    "    \"\"\").fetchall())\n",
    "\n",
    "    # \"Non renewables\" není\n",
    "    print('Non renewables', c.execute(\"\"\"\n",
    "        SELECT COUNTRY, COUNT(*) \n",
    "        FROM electricity \n",
    "        WHERE PRODUCT IN (\"Non renewables\", \"Coal\")\n",
    "        GROUP BY COUNTRY, YEAR, MONTH \n",
    "        HAVING COUNT(*) > 1\n",
    "        LIMIT 5\n",
    "    \"\"\").fetchall())\n",
    "\n",
    "    # \"Renewables\" je \n",
    "    print('Renewables', c.execute(\"\"\"\n",
    "        SELECT COUNTRY, COUNT(*) \n",
    "        FROM electricity \n",
    "        WHERE PRODUCT IN (\"Renewables\", \"Solar\")\n",
    "        GROUP BY COUNTRY, YEAR, MONTH \n",
    "        HAVING COUNT(*) > 1\n",
    "        LIMIT 5\n",
    "    \"\"\").fetchall())\n",
    "    "
   ]
  },
  {
   "cell_type": "markdown",
   "id": "f0f6b5ae-2006-4171-9a9a-3a74685fb400",
   "metadata": {},
   "source": [
    "Vyfiltované (déle používané) hodnoty sloupce _PRODUCT_ z datasetu _electricity_"
   ]
  },
  {
   "cell_type": "code",
   "execution_count": 211,
   "id": "a85f7bbf-aa41-4e13-b87c-6b7c549b4da9",
   "metadata": {
    "scrolled": true
   },
   "outputs": [],
   "source": [
    "renewables = ['Hydro', 'Wind', 'Solar', 'Geothermal', 'Combustible renewables', 'Other renewables', 'Other combustible renewables']\n",
    "non_renewables = ['Coal', 'Oil', 'Natural gas', 'Low carbon', 'Fossil fuels', 'Nuclear']\n",
    "\n",
    "all_energy_producing_sources = [*renewables, *non_renewables]\n",
    "\n",
    "total_q, total_p = select_product(all_energy_producing_sources)\n",
    "\n",
    "def select_product_relative(product: str|list[str]) -> tuple[str, list]:\n",
    "    product_q, product_p = select_product(product)\n",
    "    parameters = [*total_p, *product_p]\n",
    "    query = f\"\"\"\n",
    "        SELECT \n",
    "            t.key,\n",
    "            t.COUNTRY AS country,\n",
    "            t.YEAR AS year,\n",
    "            t.MONTH AS month,\n",
    "            (p.value / t.value) AS value\n",
    "        FROM ({total_q}) t\n",
    "        JOIN ({product_q}) p ON t.key = p.key\n",
    "    \"\"\"\n",
    "\n",
    "    return query, parameters"
   ]
  },
  {
   "cell_type": "code",
   "execution_count": 409,
   "id": "11b0189b-66f8-44e0-b7ab-2aa2e9a4394c",
   "metadata": {},
   "outputs": [
    {
     "name": "stdout",
     "output_type": "stream",
     "text": [
      "Total countries with values 41\n"
     ]
    }
   ],
   "source": [
    "relative_coal, relative_coal_p = select_product_relative('Coal')\n",
    "relative_natural_gas, relative_natural_gas_p = select_product_relative('Natural gas')\n",
    "relative_nuclear, relative_nuclear_p = select_product_relative('Nuclear')\n",
    "\n",
    "relative_hydro, relative_hydro_p = select_product_relative('Hydro')\n",
    "relative_wind, relative_wind_p = select_product_relative('Wind')\n",
    "relative_solar, relative_solar_p = select_product_relative('Solar')\n",
    "relative_renewables, relative_renewables_p = select_product_relative(renewables)\n",
    "\n",
    "parameters = [\n",
    "    *relative_coal_p,\n",
    "    *relative_natural_gas_p,\n",
    "    *relative_nuclear_p,\n",
    "    *relative_hydro_p,\n",
    "    *relative_wind_p,\n",
    "    *relative_solar_p,\n",
    "    *relative_renewables_p,\n",
    "]\n",
    "\n",
    "def create_join(on_alias: str, query: str, alias: str, kind: str = 'LEFT') -> str:\n",
    "    return f\"\"\" {kind} JOIN ({query}) {alias} ON (\n",
    "        {alias}.country = {on_alias}.COUNTRY\n",
    "        AND {alias}.year = {on_alias}.YEAR\n",
    "        AND {alias}.month = {on_alias}.MONTH\n",
    "    )\"\"\"\n",
    "\n",
    "complete_data_query = f\"\"\"\n",
    "    SELECT \n",
    "        e.COUNTRY AS country,\n",
    "        e.YEAR AS year,\n",
    "        e.MONTH AS month,\n",
    "        \n",
    "        COALESCE(coal.value, 0) AS coal_perc,\n",
    "        COALESCE(gas.value, 0) AS gas_perc,\n",
    "        COALESCE(nuclear.value, 0) AS nuclear_perc,\n",
    "        \n",
    "        COALESCE(hydro.value, 0) AS hydro_perc,\n",
    "        COALESCE(wind.value, 0) AS wind_perc,\n",
    "        COALESCE(solar.value, 0) AS solar_perc,\n",
    "        COALESCE(renewables.value, 0) AS renewables_perc,\n",
    "        w.*,\n",
    "        pop.*\n",
    "    FROM electricity e\n",
    "    JOIN ({population_complete}) pop ON (\n",
    "        pop.country = e.COUNTRY\n",
    "        AND pop.year = e.YEAR\n",
    "    )\n",
    "    {create_join('e', complete_weather_query, 'w', kind='INNER')}\n",
    "    \n",
    "    {create_join('e', relative_coal, 'coal')}\n",
    "    {create_join('e', relative_natural_gas, 'gas')}\n",
    "    {create_join('e', relative_nuclear, 'nuclear')}\n",
    "    \n",
    "    {create_join('e', relative_hydro, 'hydro')}\n",
    "    {create_join('e', relative_wind, 'wind')}\n",
    "    {create_join('e', relative_solar, 'solar')}\n",
    "    {create_join('e', relative_renewables, 'renewables')}\n",
    "\n",
    "    GROUP BY e.COUNTRY, e.YEAR, e.MONTH\n",
    "\"\"\"\n",
    "\n",
    "with cursor() as c:\n",
    "    df = pd.DataFrame(c.execute(f'{complete_data_query};', parameters).fetchall())\n",
    "    df_orig_ = df.copy()\n",
    "    \n",
    "    print('Total countries with values', len(c.execute(f'SELECT DISTINCT country FROM ({complete_data_query});', parameters).fetchall()))"
   ]
  },
  {
   "cell_type": "markdown",
   "id": "ecb2935d-d5d6-426d-8d17-47b42941c3f3",
   "metadata": {},
   "source": [
    "## Missing values treatment"
   ]
  },
  {
   "cell_type": "code",
   "execution_count": 410,
   "id": "0fb8f63d-37d4-43fc-bb8a-27a7d80921b7",
   "metadata": {},
   "outputs": [
    {
     "name": "stdout",
     "output_type": "stream",
     "text": [
      "Before: n_rows: 3348; n_cols: 25\n",
      "missing_col_names=['avg_sunshine_min', 'total_sunshine_min', 'avg_snow_depth_mm']\n",
      "After: n_rows: 3348; n_cols: 22\n"
     ]
    },
    {
     "data": {
      "text/plain": [
       "country                          0\n",
       "year                             0\n",
       "month                            0\n",
       "coal_perc                        0\n",
       "gas_perc                         0\n",
       "nuclear_perc                     0\n",
       "hydro_perc                       0\n",
       "wind_perc                        0\n",
       "solar_perc                       0\n",
       "renewables_perc                  0\n",
       "season                           0\n",
       "avg_temp_c                       0\n",
       "max_temp_c                       0\n",
       "min_temp_c                       0\n",
       "avg_sealevel_pressure_hpa      234\n",
       "avg_daily_precipitation_mm      96\n",
       "female_perc                      0\n",
       "male_perc                        0\n",
       "population_density               0\n",
       "population_below_14_perc         0\n",
       "population_above_65_perc         0\n",
       "population_working_age_perc      0\n",
       "dtype: int64"
      ]
     },
     "execution_count": 410,
     "metadata": {},
     "output_type": "execute_result"
    }
   ],
   "source": [
    "# Drop pro všechny sloupce, které nemají hodnotu ve více než 30 % řádků\n",
    "df = df_orig_.copy()\n",
    "\n",
    "missing_col_names = [ column_name for column_name, count_na in df.isna().sum().items() if count_na > (len(df) * 0.3)]\n",
    "print(f'Before: n_rows: {len(df)}; n_cols: {len(df.columns)}')\n",
    "print(f'{missing_col_names=}')\n",
    "\n",
    "for col in missing_col_names:\n",
    "    df.drop(col, axis='columns', inplace=True)\n",
    "\n",
    "print(f'After: n_rows: {len(df)}; n_cols: {len(df.columns)}')\n",
    "\n",
    "df.isna().sum()"
   ]
  },
  {
   "cell_type": "code",
   "execution_count": 292,
   "id": "24d8b938-5cb3-4af2-994b-d90383834bd6",
   "metadata": {},
   "outputs": [
    {
     "name": "stdout",
     "output_type": "stream",
     "text": [
      "missing_under_30_perc=['max_temp_c', 'min_temp_c', 'avg_sealevel_pressure_hpa', 'avg_daily_precipitation_mm']\n",
      "\n"
     ]
    }
   ],
   "source": [
    "missing_under_30_perc = [ col_name for col_name, count in df.isna().sum().items() if count > 0]\n",
    "print(f'{missing_under_30_perc=}\\n')"
   ]
  },
  {
   "cell_type": "code",
   "execution_count": 414,
   "id": "bfcda80b-83b9-4eba-95d2-ebd62a12a3cd",
   "metadata": {
    "scrolled": true
   },
   "outputs": [
    {
     "name": "stdout",
     "output_type": "stream",
     "text": [
      "max_temp_c countries: \n",
      " Empty DataFrame\n",
      "Columns: [country, year, month]\n",
      "Index: []\n"
     ]
    },
    {
     "data": {
      "text/plain": [
       "country                        0\n",
       "year                           0\n",
       "month                          0\n",
       "coal_perc                      0\n",
       "gas_perc                       0\n",
       "nuclear_perc                   0\n",
       "hydro_perc                     0\n",
       "wind_perc                      0\n",
       "solar_perc                     0\n",
       "renewables_perc                0\n",
       "season                         0\n",
       "avg_temp_c                     0\n",
       "max_temp_c                     0\n",
       "min_temp_c                     0\n",
       "avg_sealevel_pressure_hpa      0\n",
       "avg_daily_precipitation_mm     0\n",
       "female_perc                    0\n",
       "male_perc                      0\n",
       "population_density             0\n",
       "population_below_14_perc       0\n",
       "population_above_65_perc       0\n",
       "population_working_age_perc    0\n",
       "dtype: int64"
      ]
     },
     "execution_count": 414,
     "metadata": {},
     "output_type": "execute_result"
    }
   ],
   "source": [
    "print('max_temp_c countries: \\n', df[df['max_temp_c'].isna()][['country', 'year', 'month']])\n",
    "\n",
    "df['avg_sealevel_pressure_hpa'].fillna(1000, inplace=True)\n",
    "df['avg_daily_precipitation_mm'].fillna(0, inplace=True)\n",
    "\n",
    "df.isna().sum()"
   ]
  },
  {
   "cell_type": "markdown",
   "id": "dc3c5e2b-9521-484a-b4b4-ecb4e9d40151",
   "metadata": {},
   "source": [
    "### Kategorizace"
   ]
  },
  {
   "cell_type": "code",
   "execution_count": null,
   "id": "dbacaf7c-b834-4ed2-9f72-e5d63c0ce85d",
   "metadata": {},
   "outputs": [],
   "source": []
  },
  {
   "cell_type": "markdown",
   "id": "313d9a50-8569-4056-873f-23e2fe8210dc",
   "metadata": {},
   "source": [
    "### Export dat"
   ]
  },
  {
   "cell_type": "code",
   "execution_count": 415,
   "id": "6807261f-91f5-473d-ba6a-d84417b900ee",
   "metadata": {},
   "outputs": [],
   "source": [
    "FILE_NAME = 'final.csv'\n",
    "\n",
    "df.to_csv(f'data/{FILE_NAME}')"
   ]
  },
  {
   "cell_type": "markdown",
   "id": "c526bde8-8a09-42d9-b975-f91f60e67c33",
   "metadata": {},
   "source": [
    "## Utilitky pro vytváření grafů"
   ]
  },
  {
   "cell_type": "code",
   "execution_count": null,
   "id": "d26519a7-dbc7-462a-b34f-444a88d491e9",
   "metadata": {},
   "outputs": [],
   "source": [
    "total_q, total_p = select_product(all_energy_producing_sources)\n",
    "\n",
    "def relative_energy_source_box(product_name: str|list[str], title: str, ylabel: str) -> None:\n",
    "    energy_source_q, energy_source_p = select_product(product_name)\n",
    "    parameters = [*total_p, *energy_source_p]\n",
    "    query = f\"\"\"\n",
    "        SELECT \n",
    "            t.country AS country,\n",
    "            t.year AS year,\n",
    "            AVG((COALESCE(r.value, 1) / t.value) * 100) AS value\n",
    "        FROM ({total_q}) t\n",
    "        LEFT JOIN ({energy_source_q}) r ON r.key = t.key\n",
    "        GROUP BY t.country, t.year\n",
    "        ORDER BY t.country, t.year\n",
    "    \"\"\"\n",
    "    \n",
    "    result: dict\n",
    "    with cursor() as c:   \n",
    "        result = c.execute(query, parameters).fetchall()\n",
    "\n",
    "    result = dict(sorted(group_by_year(result).items()))\n",
    "    \n",
    "    fig, ax = plt.subplots()\n",
    "    ax.set_title(title)\n",
    "    ax.set_xlabel('Rok')\n",
    "    ax.set_ylabel(ylabel)\n",
    "    ax.boxplot(result.values())\n",
    "    ax.set_xticklabels(result.keys())"
   ]
  },
  {
   "cell_type": "code",
   "execution_count": 176,
   "id": "c3320556-f7a1-4d3a-b223-7d40745e7b41",
   "metadata": {
    "scrolled": true
   },
   "outputs": [
    {
     "data": {
      "image/png": "[encoded data removed]",
      "text/plain": [
       "<Figure size 640x480 with 1 Axes>"
      ]
     },
     "metadata": {},
     "output_type": "display_data"
    }
   ],
   "source": [
    "relative_energy_source_box(renewables,\n",
    "                            title='Relativní množství vyrobené energie z obn. zdrojů v letech',\n",
    "                            ylabel='El. energie z obn. zdrojů (%)')"
   ]
  },
  {
   "cell_type": "code",
   "execution_count": 179,
   "id": "86a484a5-769e-4dde-b8fb-f78c45fe2270",
   "metadata": {},
   "outputs": [
    {
     "data": {
      "image/png": "[encoded data removed]",
      "text/plain": [
       "<Figure size 640x480 with 1 Axes>"
      ]
     },
     "metadata": {},
     "output_type": "display_data"
    }
   ],
   "source": [
    "relative_energy_source_box('Coal',\n",
    "                            title='Relativní množství vyrobené energie ze spalování uhlí v letech',\n",
    "                            ylabel='El. energie z uhlí (%)')"
   ]
  },
  {
   "cell_type": "code",
   "execution_count": null,
   "id": "f9e4a8af-a0e1-41be-90aa-f0160cf736de",
   "metadata": {},
   "outputs": [],
   "source": []
  }
 ],
 "metadata": {
  "kernelspec": {
   "display_name": "Python 3 (ipykernel)",
   "language": "python",
   "name": "python3"
  },
  "language_info": {
   "codemirror_mode": {
    "name": "ipython",
    "version": 3
   },
   "file_extension": ".py",
   "mimetype": "text/x-python",
   "name": "python",
   "nbconvert_exporter": "python",
   "pygments_lexer": "ipython3",
   "version": "3.11.8"
  }
 },
 "nbformat": 4,
 "nbformat_minor": 5
}
